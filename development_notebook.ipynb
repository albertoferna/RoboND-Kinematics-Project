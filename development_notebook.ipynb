{
 "cells": [
  {
   "cell_type": "code",
   "execution_count": null,
   "metadata": {
    "collapsed": true
   },
   "outputs": [],
   "source": [
    "import numpy as np\n",
    "import matplotlib.pyplot as plt\n",
    "from mpl_toolkits.mplot3d import Axes3D\n",
    "%matplotlib inline\n",
    "from sympy import symbols, cos, sin, pi, simplify, atan2, acos, init_printing, sqrt\n",
    "from sympy.matrices import Matrix\n",
    "#init_printing()"
   ]
  },
  {
   "cell_type": "markdown",
   "metadata": {},
   "source": [
    "### Representation of urdf file\n",
    "\n",
    "To help with debugging I wrote some functions that read the simplified urdf file that defines Kuka arm Kr210. This will help with visualizing the difference in representation between Denavit–Hartenberg and urdf.\n",
    "First let's write a function to draw three arrows in 3d space representing a local frame of reference."
   ]
  },
  {
   "cell_type": "code",
   "execution_count": null,
   "metadata": {
    "collapsed": true
   },
   "outputs": [],
   "source": [
    "def add_frame(axes, origin, x1, x2, rep='XZ'):\n",
    "    \"\"\"\n",
    "    Takes an matplotlib 3d axes and adds a triplet of arroys representing origin coordinates\n",
    "    The frame of reference can be passed defined with two vectors representing x and z unit vectors,\n",
    "    xy unit vectors or yz unit vectors. The third component is calculated\"\"\"\n",
    "    org = np.vstack((origin, origin, origin))\n",
    "    if rep == 'XZ':\n",
    "        x = np.array(x1)\n",
    "        z = np.array(x2)\n",
    "        y = np.cross(x2, x1)\n",
    "    elif rep == 'XY':\n",
    "        x = np.array(x1)\n",
    "        y = np.array(x2)\n",
    "        z = np.cross(x1, x2)\n",
    "    elif rep== 'YZ':\n",
    "        y = np.array(x1)\n",
    "        z = np.array(x2)\n",
    "        x = np.cross(x1, x2)\n",
    "    else:\n",
    "        print('representation not valid')\n",
    "    arrows = np.vstack((x,y,z))\n",
    "    for arrow, color in zip(arrows, ['r','g','b']):\n",
    "        # Length hardcoded for this problem. Assuming m as dimensions\n",
    "        axes.quiver3D(org[0, 0], org[0, 1], org[0, 2], arrow[0], arrow[1], arrow[2],\n",
    "                      length=0.3, color=color, normalize=True)\n",
    "    "
   ]
  },
  {
   "cell_type": "code",
   "execution_count": null,
   "metadata": {
    "collapsed": true
   },
   "outputs": [],
   "source": [
    "import xml.etree.ElementTree as ET\n",
    "with open('./simplified_kr210.urdf') as urdf_file:\n",
    "    urdf = ET.parse(urdf_file)"
   ]
  },
  {
   "cell_type": "code",
   "execution_count": null,
   "metadata": {
    "collapsed": true
   },
   "outputs": [],
   "source": [
    "rev_joints = []\n",
    "# append one representing the origin\n",
    "rev_joints.append((np.array([0.0,0.0,0.0]), np.array([0.0,0.0,1.0])))\n",
    "for joint in urdf.findall(\"joint/[@type='revolute']\"):\n",
    "    origin = joint.find('origin').attrib['xyz']\n",
    "    axis = joint.find('axis').attrib['xyz']\n",
    "    o = np.fromstring(origin, sep=' ')\n",
    "    a = np.fromstring(axis, sep=' ')\n",
    "    rev_joints.append((o, a))"
   ]
  },
  {
   "cell_type": "code",
   "execution_count": null,
   "metadata": {},
   "outputs": [],
   "source": [
    "fig = plt.figure()\n",
    "ax = fig.add_subplot(111, projection='3d')\n",
    "pos = np.array([0.0,0.0,0.0])\n",
    "max_coord = 0.0\n",
    "for joint in rev_joints:\n",
    "    base = np.array(pos)\n",
    "    pos += joint[0]\n",
    "    ax.plot((base[0], pos[0]), (base[1], pos[1]), linewidth=2, zs=(base[2], pos[2]), color='m')\n",
    "    max_coord = max(max_coord, pos.max())\n",
    "    add_frame(ax, pos, [1,0,0], [0,0,1])\n",
    "ax.auto_scale_xyz([0,max_coord], [0,max_coord], Z=[0,max_coord])\n",
    "#ax.set_aspect('equal')\n",
    "fig.set_size_inches(12,10)"
   ]
  },
  {
   "cell_type": "markdown",
   "metadata": {},
   "source": [
    "Here I ploted the joints in 3d to get an idea of what the frames look like. Read arrows represent a local x axis, green arrows a y axis, and blue would be a z axis"
   ]
  },
  {
   "cell_type": "markdown",
   "metadata": {},
   "source": [
    "### Symbolic Forward Kinematics\n",
    "\n",
    "Let's now try to get the forward kinematics in symbolic form. It is useful to build a 3d view of the frames, but this time as interpreted in DH configuration. Therefore, we first define the robot following the convention:"
   ]
  },
  {
   "cell_type": "code",
   "execution_count": null,
   "metadata": {},
   "outputs": [],
   "source": [
    "# working with lists would make it easier latter on\n",
    "q_s = symbols('q1:8', real=True)\n",
    "d_s = symbols('d1:8', real=True)\n",
    "a_s = symbols('a0:7', real=True)\n",
    "alpha_s = symbols('alpha0:7', real=True)\n",
    "\n",
    "alpha = [0.0, -pi/2, 0.0, -pi/2, pi/2, -pi/2, 0.0]\n",
    "a = [0.0, 0.35, 1.25, -0.054, 0.0, 0.0, 0.0]\n",
    "d = [0.75, 0.0, 0.0, 1.5, 0.0, 0.0, 0.303]\n",
    "q = list(q_s)\n",
    "q[1] = q_s[1] - pi/2\n",
    "q[6] = 0.0\n",
    "dh = dict(zip(a_s, a))\n",
    "dh.update(dict(zip(alpha_s, alpha)))\n",
    "dh.update(dict(zip(d_s, d)))\n",
    "dh.update(dict(zip(q_s, q)))\n",
    "# DH table\n",
    "dh"
   ]
  },
  {
   "cell_type": "markdown",
   "metadata": {},
   "source": [
    "A function to calculate the each transformation matrix is very useful here:"
   ]
  },
  {
   "cell_type": "code",
   "execution_count": null,
   "metadata": {
    "collapsed": true
   },
   "outputs": [],
   "source": [
    "def transform(alpha, a, d, q):\n",
    "    \"\"\"\n",
    "    Helper function. Given the values for a tranformation between two joints it returns\n",
    "    the tranformation matrix\n",
    "    \"\"\"\n",
    "    T = Matrix([[cos(q), -sin(q), 0.0, a],\n",
    "                [sin(q) * cos(alpha), cos(q) * cos(alpha), -sin(alpha), -sin(alpha) * d],\n",
    "                [sin(q) * sin(alpha), cos(q) * sin(alpha),  cos(alpha),  cos(alpha) * d],\n",
    "                [0.0, 0.0, 0.0, 1.0]])\n",
    "    return T"
   ]
  },
  {
   "cell_type": "code",
   "execution_count": null,
   "metadata": {
    "collapsed": true
   },
   "outputs": [],
   "source": [
    "# list of transformations\n",
    "T_s = []\n",
    "for alpha, a, d, q in zip(alpha_s, a_s, d_s, q_s):\n",
    "    T_s.append(transform(alpha, a, d, q).subs(dh))"
   ]
  },
  {
   "cell_type": "markdown",
   "metadata": {},
   "source": [
    "Let's put numeric values into the transformations and plot then side by side with the frames of the urdf file. I just added an offset to global coordinate y to help with the comparison."
   ]
  },
  {
   "cell_type": "code",
   "execution_count": null,
   "metadata": {},
   "outputs": [],
   "source": [
    "# base frame of reference:\n",
    "pos = Matrix([0.0, 0.0, 0.0, 1.0])\n",
    "x1 = Matrix([1.0, 0.0, 0.0])\n",
    "x2 = Matrix([0.0, 0.0, 1.0])\n",
    "# selected configuration\n",
    "conf = dict(zip(q_s, [0.0] * len(q_s)))\n",
    "max_coord = 0.0\n",
    "origin = Matrix([0.0, 1.0, 0.0, 1.0])\n",
    "add_frame(ax, origin[0:3], x1[:3], x2[:3])\n",
    "\n",
    "# total transformation:\n",
    "T = Matrix.eye(4)\n",
    "joint_id = 1\n",
    "for t in T_s:\n",
    "    T *= t\n",
    "    base = np.array(origin[:3])\n",
    "    origin = (T * pos).subs(conf)\n",
    "    origin[1] = 1.0\n",
    "    x = T[:3, :3].subs(conf) * x1\n",
    "    z = T[:3, :3].subs(conf) * x2\n",
    "    max_coord = max(max_coord, max(origin))\n",
    "    ax.plot((base[0], origin[0]), (base[1], origin[1]), linewidth=2, zs=(base[2], origin[2]), color='y')\n",
    "    add_frame(ax, origin[:3], x[:3], z[:3])\n",
    "    joint_id += 1\n",
    "    \n",
    "ax.auto_scale_xyz([0,max_coord], [0,max_coord], Z=[0,max_coord])\n",
    "ax.set_title('Side by Side Orientation Comparison', fontsize=18)\n",
    "fig"
   ]
  },
  {
   "cell_type": "markdown",
   "metadata": {},
   "source": [
    "The difference in definition can be clearly seen in the picture. However, when all transformations are applied que should end up with the same position and orientation. Looking at arrow colors we can see what the difference is for the orientation of the end effector.\n",
    "\n",
    "### Correction of end effector\n",
    "\n",
    "The final frame of reference needs to be rotated to match what is in the urdf file. To position it correctly, we need to rotate it -pi/2 around the y axis and pi around the z axis. For those operations let's buils generic rotation matrices:"
   ]
  },
  {
   "cell_type": "code",
   "execution_count": null,
   "metadata": {
    "collapsed": true
   },
   "outputs": [],
   "source": [
    "rot_1, rot_2, rot_3 = symbols('rot_1:4')\n",
    "R_x = Matrix([[ 1, 0, 0],\n",
    "              [ 0, cos(rot_1), -sin(rot_1)],\n",
    "              [ 0, sin(rot_1),  cos(rot_1)]])\n",
    "R_y = Matrix([[ cos(rot_2), 0, sin(rot_2)],\n",
    "              [ 0, 1, 0],\n",
    "              [-sin(rot_2), 0,  cos(rot_2)]])\n",
    "R_z = Matrix([[ cos(rot_3), -sin(rot_3), 0],\n",
    "              [ sin(rot_3),  cos(rot_3), 0],\n",
    "              [ 0, 0, 1]])"
   ]
  },
  {
   "cell_type": "code",
   "execution_count": null,
   "metadata": {
    "collapsed": true
   },
   "outputs": [],
   "source": [
    "# Correction matrix in homogeneous form\n",
    "corr = (R_z.subs(rot_3, pi) * R_y.subs(rot_2, -pi/2))\n",
    "corr = corr.row_insert(3, Matrix([0,0,0]).transpose())\n",
    "corr = corr.col_insert(3, Matrix([0,0,0,1]))"
   ]
  },
  {
   "cell_type": "markdown",
   "metadata": {},
   "source": [
    "This correction as to be applied to the effector orientation. For that, we need to multiply our previous transformation by the correction matrix that we just defined. Let's plot the position of the first and last link using both expresions."
   ]
  },
  {
   "cell_type": "code",
   "execution_count": null,
   "metadata": {},
   "outputs": [],
   "source": [
    "fig = plt.figure()\n",
    "ax = fig.add_subplot(111, projection='3d')\n",
    "pos = np.array([0.0,0.0,0.0])\n",
    "max_coord = 0.0\n",
    "# add origin reference:\n",
    "add_frame(ax, pos, [1,0,0], [0,0,1])\n",
    "for joint in rev_joints:\n",
    "    pos += joint[0]\n",
    "    max_coord = max(max_coord, pos.max())\n",
    "add_frame(ax, pos, [1,0,0], [0,0,1])\n",
    "# plot total transformation based on DH parameters\n",
    "x1 = Matrix([1.0, 0.0, 0.0])\n",
    "x2 = Matrix([0.0, 0.0, 1.0])\n",
    "corrected_T = (T.subs(conf) * corr)\n",
    "origin = Matrix([0.0, 0.0, 0.0, 1.0])\n",
    "origin = corrected_T * pos\n",
    "x = corrected_T[:3, :3] * x1\n",
    "z = corrected_T[:3, :3] * x2\n",
    "add_frame(ax, origin[:3], x[:3], z[:3])\n",
    "\n",
    "ax.auto_scale_xyz([0,max_coord], [0,max_coord], Z=[0,max_coord])\n",
    "#ax.set_aspect('equal')\n",
    "fig.set_size_inches(12,10)"
   ]
  },
  {
   "cell_type": "markdown",
   "metadata": {},
   "source": [
    "Transformations seem correct. There are really three frames in the plot. However, both transformations end up in the same point with the same orientation, thus only one frame is visible.\n",
    "\n",
    "## Test Forward Kinematics\n",
    "\n",
    "At this point, it should be posible to chance the configuration of the arm and plot it. Let's try it."
   ]
  },
  {
   "cell_type": "code",
   "execution_count": null,
   "metadata": {
    "collapsed": true
   },
   "outputs": [],
   "source": [
    "# selected arbitrary configuration\n",
    "q_values = [-0.65,0.45,-0.36,0.95,0.79,0.49, 0]\n",
    "conf = dict(zip(q_s, q_values))"
   ]
  },
  {
   "cell_type": "code",
   "execution_count": null,
   "metadata": {},
   "outputs": [],
   "source": [
    "fig = plt.figure()\n",
    "ax = fig.add_subplot(111, projection='3d')\n",
    "pos = Matrix([0.0, 0.0, 0.0, 1.0])\n",
    "# base frame of reference:\n",
    "origin = Matrix([0.0, 0.0, 0.0, 1.0])\n",
    "x1 = Matrix([1.0, 0.0, 0.0])\n",
    "x2 = Matrix([0.0, 0.0, 1.0])\n",
    "add_frame(ax, origin[0:3], x1[:3], x2[:3])\n",
    "\n",
    "max_coord = 0.0\n",
    "# total transformation:\n",
    "T = Matrix.eye(4)\n",
    "joint_id = 1\n",
    "for t in T_s:\n",
    "    T *= t\n",
    "    base = np.array(origin[:3])\n",
    "    origin = (T * pos).subs(conf)\n",
    "    # correct orientation of last frame and print position\n",
    "    if joint_id == len(T_s):\n",
    "        x = (T[:3, :3].subs(conf) * corr[:3, :3]) * x1\n",
    "        z = (T[:3, :3].subs(conf) * corr[:3, :3]) * x2\n",
    "        print('Effector located at:')\n",
    "        print('x: {:.4f}, y: {:.4f}, z: {:.4f}'.format(origin[0], origin[1], origin[2]))\n",
    "    else:\n",
    "        x = T[:3, :3].subs(conf) * x1\n",
    "        z = T[:3, :3].subs(conf) * x2\n",
    "    # print position of wrist (joint 4, 5, 6)\n",
    "    if joint_id == 4:\n",
    "        print('Wrist located at:')\n",
    "        print('x: {:.4f}, y: {:.4f}, z: {:.4f}'.format(origin[0], origin[1], origin[2]))\n",
    "    max_coord = max(max_coord, max(origin))\n",
    "    ax.plot((base[0], origin[0]), (base[1], origin[1]), linewidth=2, zs=(base[2], origin[2]), color='y')\n",
    "    add_frame(ax, origin[:3], x[:3], z[:3])\n",
    "    joint_id += 1\n",
    "    \n",
    "ax.auto_scale_xyz([0,max_coord], [0,max_coord], Z=[0,max_coord])\n",
    "ax.set_title('Arbitrary Position representation', fontsize=18)\n",
    "fig.set_size_inches(12,10)"
   ]
  },
  {
   "cell_type": "markdown",
   "metadata": {},
   "source": [
    "## Inverse Kinematics\n",
    "\n",
    "In inverse kinematics we have to start with the pose we want our robot to take and then calculate the angle of each joint.\n",
    "Due to the configuration of the arm, we can decouple the problem into positioning the wrist (joint 4,5,6), and orienting the end effector. We are given the position the position and orientation of the end effector in the form of its coordinates and a quaternion. Quaternions can be converted to roll, pitch, yaw.\n",
    "### Wrist Position\n",
    "The first conclusion that can be reached is that theta_1 can be calculated directly from the coordinates of the wrist position. By looking at the robot configuration it is clear that the only joint that can position the wrist in a particular plane that contains the global z axis is the first one. Looking at the robot from above (global z direction) the point of interest and the z axis are contained in a plane that forms an angle theta1 with the x axis."
   ]
  },
  {
   "cell_type": "code",
   "execution_count": null,
   "metadata": {
    "collapsed": true
   },
   "outputs": [],
   "source": [
    "# Transform matrix from origen to wrist\n",
    "T_0_4 = simplify(T_s[0] * T_s[1] * T_s[2] * T_s[3])\n",
    "origin = Matrix([0.0, 0.0, 0.0, 1.0])\n",
    "# wrist center as variable\n",
    "x_wc = symbols(('x_wc', 'y_wc', 'z_wc'), real=True)\n",
    "wrist_center = Matrix(x_wc).row_insert(3, Matrix([1.0]))"
   ]
  },
  {
   "cell_type": "markdown",
   "metadata": {},
   "source": [
    "With theta1 solved as a function of the wrist coordinates we know have to find relations for the other two angles. As we saw before, those links are in the same plane. We can make use of it to solve for the triangle formed by joints two, three and four. The all that is left is to project those results into the plane defined by theta1."
   ]
  },
  {
   "cell_type": "code",
   "execution_count": null,
   "metadata": {},
   "outputs": [],
   "source": [
    "theta_1 = atan2(x_wc[1], x_wc[0])\n",
    "theta_1"
   ]
  },
  {
   "cell_type": "code",
   "execution_count": null,
   "metadata": {},
   "outputs": [],
   "source": [
    "# Two sides of the triangle come directly from the DH table\n",
    "side_b = 1.501 # sqrt(d4 ** 2 + a3 **2)\n",
    "side_a = 1.25 # a2\n",
    "# point at joint 2:\n",
    "x_p2 = (T_s[0] * T_s[1] * origin).subs(q_s[0], theta_1)\n",
    "# Distance vector between joint and wrist\n",
    "distance = (wrist_center - x_p2)\n",
    "side_c_sq = simplify((distance.transpose() * distance)[0])\n",
    "# It is simpler to keep the square here. Apply sqrt to cos law\n",
    "side_c_sq"
   ]
  },
  {
   "cell_type": "code",
   "execution_count": null,
   "metadata": {
    "collapsed": true
   },
   "outputs": [],
   "source": [
    "# apply law of cosines to solve angles:\n",
    "alpha = acos(((side_b ** 2) + (side_c_sq) - (side_a ** 2)) / (2 * (side_b + sqrt(side_c_sq))))\n",
    "beta = acos(((side_a ** 2) + (side_c_sq) - (side_b ** 2)) / (2 * (side_a + sqrt(side_c_sq))))\n",
    "gamma = acos(((side_b ** 2) + (side_a ** 2) - (side_c_sq)) / (2 * (side_b + side_a)))"
   ]
  },
  {
   "cell_type": "code",
   "execution_count": null,
   "metadata": {
    "collapsed": true
   },
   "outputs": [],
   "source": [
    "# solve relations based on distances and angles\n",
    "theta_2 = pi / 2 - alpha - atan2(distance[2], sqrt(simplify(distance[0] ** 2 + distance[1] ** 2)))\n",
    "theta_3 = pi / 2 - beta + 0.036"
   ]
  },
  {
   "cell_type": "markdown",
   "metadata": {},
   "source": [
    "### Check symbolic solution\n",
    "\n",
    "Let's check the solution with some numerical values. We first calculate forward kinematics and the backward"
   ]
  },
  {
   "cell_type": "code",
   "execution_count": null,
   "metadata": {
    "collapsed": true
   },
   "outputs": [],
   "source": [
    "# selected arbitrary configuration\n",
    "q_values = [-0.65,0.45,-0.36,0.95,0.79,0.49, 0.0]\n",
    "conf = dict(zip(q_s, q_values))\n",
    "# calculate forward kinematics up to the wrist\n",
    "wrist_position = T_s[0] * T_s[1] * T_s[2] * T_s[3] * origin"
   ]
  },
  {
   "cell_type": "code",
   "execution_count": null,
   "metadata": {},
   "outputs": [],
   "source": [
    "# try to get theta values for that point\n",
    "ik_test = dict(zip(x_wc, wrist_position.subs(conf)[:3]))\n",
    "ik_test"
   ]
  },
  {
   "cell_type": "code",
   "execution_count": null,
   "metadata": {},
   "outputs": [],
   "source": [
    "float(theta_1.subs(ik_test)), float(theta_2.subs(ik_test)), float(theta_3.subs(ik_test))"
   ]
  },
  {
   "cell_type": "code",
   "execution_count": null,
   "metadata": {},
   "outputs": [],
   "source": [
    "round_trip = {q_s[0]: float(theta_1.subs(ik_test)), q_s[1]: float(theta_2.subs(ik_test)),\n",
    "              q_s[2]: float(theta_3.subs(ik_test))}\n",
    "((T_s[0] * T_s[1] * T_s[2] * T_s[3]).subs(conf) * origin)[:3]"
   ]
  },
  {
   "cell_type": "markdown",
   "metadata": {},
   "source": [
    "## Effector Orientation\n",
    "\n",
    "The other part of the problem is orienting the effector. Orientation of the effector is done with the last joints. But, before doing that, we need to define it in terms of the data received. The requested orientation is defined as a quaternion. This can be easily converted to RPY (roll, pitch, yaw) using tf.transformations.euler_from_quaternion. With that information we can calculate the transformation from the origin to the end effector."
   ]
  },
  {
   "cell_type": "code",
   "execution_count": null,
   "metadata": {},
   "outputs": [],
   "source": [
    "# Asummed a RPY configuration converted from quaternion\n",
    "roll = symbols('r', real=True)\n",
    "pitch = symbols('p', real=True)\n",
    "yaw = symbols('y', real=True)\n",
    "ee_x = symbols('ee_x', real=True)\n",
    "ee_y = symbols('ee_y', real=True)\n",
    "ee_z = symbols('ee_z', real=True)\n",
    "ee_orient = [1.6544359732979843, 0.4899095071534359, 0.062392126062629866]\n",
    "ee_pos = [2.16135, -1.42635, 1.55109]\n",
    "ee_conf = {ee_x: ee_pos[0], ee_y: ee_pos[1], ee_z: ee_pos[2],\n",
    "           roll: ee_orient[0], pitch: ee_orient[1], yaw: ee_orient[2]}\n",
    "\n",
    "# Transformation from global coords to end effector corrected to use DH coordinates\n",
    "T_0_eff = R_z.subs(rot_3, yaw) * R_y.subs(rot_2, pitch) * R_x.subs(rot_1, roll)\n",
    "T_0_eff = T_0_eff.row_insert(3, Matrix([0, 0, 0]).transpose())\n",
    "T_0_eff = T_0_eff.col_insert(3, Matrix([ee_x, ee_y, ee_z,1])) * corr\n",
    "T_0_eff"
   ]
  },
  {
   "cell_type": "markdown",
   "metadata": {},
   "source": [
    "### Wrist Center Position\n",
    "In this particular case, we know from the robot configuration that the last four links in the chain are just equivalent to a translation in the z axis of the effector. In other words, the effector position is just a translation from the wrist center. This information would give us the fastest calculation:\n",
    "\n",
    "$$T^{eff}_0 \\times \\begin{bmatrix}\n",
    "0.0 \\\\\n",
    "0.0 \\\\\n",
    "-0.303 \\\\\n",
    "1.0 \\\\\n",
    "\\end{bmatrix}\n",
    "$$\n",
    "\n",
    "The -0.303 is the amount we move in the local z direction. It is negative for a translation from end effector to wrist center"
   ]
  },
  {
   "cell_type": "code",
   "execution_count": null,
   "metadata": {},
   "outputs": [],
   "source": [
    "wrist_position = T_0_eff * Matrix([0.0, 0.0, -0.303, 1.0])\n",
    "wrist_position"
   ]
  },
  {
   "cell_type": "markdown",
   "metadata": {},
   "source": [
    "At this point we already have what we need to find the wrist position from the requested end efector pose."
   ]
  },
  {
   "cell_type": "code",
   "execution_count": null,
   "metadata": {},
   "outputs": [],
   "source": [
    "ik_conf = dict(zip(x_wc, wrist_position.subs(ee_conf)[:3]))\n",
    "ik_conf"
   ]
  },
  {
   "cell_type": "markdown",
   "metadata": {},
   "source": [
    "### End Effector Orientation\n",
    "\n",
    "We have already stablished that we can get the values of theta 1 to 3 if we know the position of the wrist center:"
   ]
  },
  {
   "cell_type": "code",
   "execution_count": null,
   "metadata": {},
   "outputs": [],
   "source": [
    "theta_1_3 = (float(theta_1.subs(ik_conf)), float(theta_2.subs(ik_conf)), float(theta_3.subs(ik_conf)))\n",
    "ik_conf.update(dict(zip(q_s[:3], theta_1_3)))\n",
    "ik_conf"
   ]
  },
  {
   "cell_type": "markdown",
   "metadata": {},
   "source": [
    "Now we have to find the remaining angles. For that, it is useful to notice that we can separate our transfomation in the following maner (including the correction to change from urdf to DH):\n",
    "\n",
    "$$T^{eff}_0 \\times Corr= T^3_0 \\times T^E_3$$\n",
    "\n",
    "Left multipliying both sides by $({T^3_0})^{-1}$ we have:\n",
    "\n",
    "$$({T^3_0})^{-1} \\times T^{eff}_0 \\times Corr= T^E_3$$\n",
    "\n",
    "On that equation we know everything on the left side at this point. Let's calculate each term."
   ]
  },
  {
   "cell_type": "code",
   "execution_count": null,
   "metadata": {},
   "outputs": [],
   "source": [
    "T_3_6 = ((T_s[0].subs(ik_conf) * T_s[1].subs(ik_conf) * T_s[2].subs(ik_conf)).inv('LU')[:3, :3] *\n",
    "         T_0_eff.subs(ee_conf)[:3, :3])\n",
    "T_3_6"
   ]
  },
  {
   "cell_type": "markdown",
   "metadata": {},
   "source": [
    "This transformation matrix can be converted to roll, pitch, yaw configuration. By looking at the robot configuration we see that those rotations correspond to the rotation of the last 3 joints (disregarding the last translation to the end effector). Thus, from the components of this matrix we get the final 3 angles:"
   ]
  },
  {
   "cell_type": "code",
   "execution_count": null,
   "metadata": {},
   "outputs": [],
   "source": [
    "theta_4 = atan2(T_3_6[2, 2], -T_3_6[0, 2])\n",
    "theta_5 = atan2(sqrt(T_3_6[0, 2] ** 2 + T_3_6[2, 2] ** 2), T_3_6[1, 2])\n",
    "theta_6 = atan2(-T_3_6[1, 1], T_3_6[1, 0])\n",
    "ik_test.update(dict(zip(q_s[3:6], [float(theta_4), float(theta_5), float(theta_6)])))\n",
    "ik_test"
   ]
  },
  {
   "cell_type": "markdown",
   "metadata": {},
   "source": [
    "Let's apply forward kinematics to check the solution"
   ]
  },
  {
   "cell_type": "code",
   "execution_count": null,
   "metadata": {},
   "outputs": [],
   "source": [
    "((T * corr).subs(ik_test) * origin)"
   ]
  },
  {
   "cell_type": "code",
   "execution_count": null,
   "metadata": {},
   "outputs": [],
   "source": [
    "print((T_s[0] * T_s[1] * T_s[2] * T_s[3] * origin).subs(ik_conf))\n",
    "((T_s[0] * T_s[1] * T_s[2] * T_s[3]).subs(conf) * origin)[:3]"
   ]
  },
  {
   "cell_type": "code",
   "execution_count": null,
   "metadata": {
    "collapsed": true
   },
   "outputs": [],
   "source": [
    "print(conf)\n",
    "print(ik)"
   ]
  },
  {
   "cell_type": "code",
   "execution_count": null,
   "metadata": {},
   "outputs": [],
   "source": [
    "print((T_s[0] * T_s[1] * origin).subs(conf))\n",
    "print((T_s[0] * T_s[1] * T_s[2] * origin).subs(conf))\n",
    "print((T_s[0] * T_s[1] * T_s[2] * T_s[3] * origin).subs(conf))\n",
    "print((T_s[0] * T_s[1] * T_s[2] * T_s[3] * T_s[4] * origin).subs(conf))\n",
    "print((T_s[0] * T_s[1] * T_s[2] * T_s[3] * T_s[4] * T_s[5] * origin).subs(conf))"
   ]
  },
  {
   "cell_type": "code",
   "execution_count": null,
   "metadata": {
    "collapsed": true
   },
   "outputs": [],
   "source": []
  }
 ],
 "metadata": {
  "kernelspec": {
   "display_name": "Python 2",
   "language": "python",
   "name": "python2"
  },
  "language_info": {
   "codemirror_mode": {
    "name": "ipython",
    "version": 3
   },
   "file_extension": ".py",
   "mimetype": "text/x-python",
   "name": "python",
   "nbconvert_exporter": "python",
   "pygments_lexer": "ipython3",
   "version": "3.6.3"
  },
  "widgets": {
   "state": {},
   "version": "1.1.2"
  }
 },
 "nbformat": 4,
 "nbformat_minor": 2
}
